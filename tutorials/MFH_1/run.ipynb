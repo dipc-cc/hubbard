{
 "cells": [
  {
   "cell_type": "code",
   "execution_count": null,
   "metadata": {},
   "outputs": [],
   "source": [
    "import sisl\n",
    "import hubbard as hubb\n",
    "import hubbard.sp2 as sp2\n",
    "import hubbard.density as density\n",
    "import hubbard.plot as plot\n",
    "%matplotlib inline"
   ]
  },
  {
   "cell_type": "markdown",
   "metadata": {},
   "source": [
    "# Isolated structures (molecules)\n",
    "\n",
    "In this example we study the effect of on-site Coulomb interactions for electrons in a carbon-based molecular geometry by solving the mean-field Hubbard equation using the `hubbard` package.\n",
    "\n",
    "We will use the molecule of ref. [Nature Communications 10, 200 (2019)](https://www.nature.com/articles/s41467-018-08060-6) and compare the simulation with the experimental system.\n",
    "\n",
    "You can find the molecular geometry in the file `junction-2-2.XV`."
   ]
  },
  {
   "cell_type": "markdown",
   "metadata": {},
   "source": [
    "### Getting started:\n",
    "\n",
    "We will start by building the tight-binding (TB) Hamiltonian for an sp2 carbon-based molecule, by first reading the geometry file using `sisl`. To build the TB Hamiltonian (which describes the kinetic part of the system's Hamiltonian) we will use the function from the `hubbard` package `sp2` that builds the TB `sisl.Hamiltonian` of an sp2 carbon system. In particular, we will use the set of parameters `t1=2.7`,`t2=0.2` and `t3=0.18` eV to model this Hamiltonian."
   ]
  },
  {
   "cell_type": "code",
   "execution_count": null,
   "metadata": {},
   "outputs": [],
   "source": [
    "# Build sisl.Geometry object from the 'XV' file\n",
    "geom = sisl.get_sile('junction-2-2.XV').read_geometry()\n",
    "\n",
    "# Build sisl.Hamiltonian object using the sp2 function\n",
    "Hsp2 = sp2(geom, t1=2.7, t2=0.2, t3=0.18)"
   ]
  },
  {
   "cell_type": "markdown",
   "metadata": {},
   "source": [
    "We will build the `HubbardHamiltonian` object, which will enable the routines to iterate the mean field Hubbard Hamiltonian until it finds the self-consistent solution (convergence). To model the interaction part (Hubbard term) we will use `U=3.5` eV. You can find the parameters used to build the full Hamiltonian (both the kinetic and interaction parts) in the [Supp. Material](https://www.nature.com/articles/s41467-018-08060-6#Sec12) of the [paper referenced above](https://www.nature.com/articles/s41467-018-08060-6) and references therein.\n",
    "\n",
    "\n",
    "For more information type:\n",
    "\n",
    "```\n",
    "help(hubb.HubbardHamiltonian)\n",
    "```"
   ]
  },
  {
   "cell_type": "code",
   "execution_count": null,
   "metadata": {},
   "outputs": [],
   "source": [
    "# Build the HubbardHamiltonian object with U=3.5 at a temperature of kT~0 in units of the Boltzmann constant\n",
    "HH = hubb.HubbardHamiltonian(Hsp2, U=3.5, kT=1e-5)"
   ]
  },
  {
   "cell_type": "markdown",
   "metadata": {},
   "source": [
    "##### Important note before starting the convergence process\n",
    "It is important to initialize the convergence of the `HubbardHamiltonian` object with an initial spin-density distribution that breaks the symmetry between the up- and down- spin channels. Otherwise the code *will not be able to find a solution*.\n",
    "Furthermore, the closer the initial spin-densities are to the self-consistent solution, the faster the code will find it."
   ]
  },
  {
   "cell_type": "code",
   "execution_count": null,
   "metadata": {},
   "outputs": [],
   "source": [
    "# Firstly we have to initialize the spin-densities distribution (polarization)\n",
    "# The polarization can be tuned by using the following function to start with a\n",
    "# specific up- and down-spin density distribution. In this case we will start\n",
    "# by placing up-spin components at atomic postion 77 and down-spin components at position 23\n",
    "HH.set_polarization([77], dn=[23])"
   ]
  },
  {
   "cell_type": "markdown",
   "metadata": {},
   "source": [
    "Now we can start the convergence process by calling the `HubbardHamiltonian.converge` method. It will iterate until it finds the self-consistent solution up to a desired tolerance (`tol`). This method needs as a mandatory argument another function that returns the spin-densities. Depending on the system or the boundary conditions, the spin-densities will be obtained differently. For instance, to compute the spin-densities for TB Hamiltonians of *finite (isolated) or periodic* structures, one can use the method `hubbard.density.calc_n`.\n",
    "\n",
    "Type:\n",
    "\n",
    "```\n",
    "help(hubb.HubbardHamiltonian.converge)\n",
    "```\n",
    "and/or\n",
    "\n",
    "```\n",
    "help(density.calc_n)\n",
    "```\n",
    "\n",
    "for more information."
   ]
  },
  {
   "cell_type": "code",
   "execution_count": null,
   "metadata": {},
   "outputs": [],
   "source": [
    "# Converge until a tolerance of tol=1e-10\n",
    "# With print_info=True it prints (dn,  Etot) for each 10 iterations\n",
    "# where dn is the spin-densities difference between last and current iteration and Etot is the total energy\n",
    "dn = HH.converge(density.calc_n, tol=1e-10, print_info=True, steps=10)"
   ]
  },
  {
   "cell_type": "markdown",
   "metadata": {},
   "source": [
    "##### Understanding the final results\n",
    "During the iteration process the total energy has also been calculated. Now that the convergence has been achieved, the total energy for the self-consistent solution is stored in the `HubbardHamiltonian` object. We can save this value to compare it with further calculations."
   ]
  },
  {
   "cell_type": "code",
   "execution_count": null,
   "metadata": {},
   "outputs": [],
   "source": [
    "# Save total energy\n",
    "E_0 =  HH.Etot\n",
    "print(f\"Total energy = {E_0}\")"
   ]
  },
  {
   "cell_type": "markdown",
   "metadata": {},
   "source": [
    "Also, we can visualize some meaningful physical quantities and properties of the solution, e.g. such as the spin polarization. Other interesting electronic properties can be visualized using the `hubbard.plot` module (take a look at the exercises section below)"
   ]
  },
  {
   "cell_type": "code",
   "execution_count": null,
   "metadata": {},
   "outputs": [],
   "source": [
    "# Let's visualize some relevant physical quantities of the final result (this process may take a few seconds)\n",
    "# By passing the argument ext_geom one can plot the spin polarization using the full geometry for the sp2 system\n",
    "# e.g. including Hydrogen atoms. Otherwise it only displays the carbon backbone (pi-network) structure\n",
    "p = plot.SpinPolarization(HH, colorbar=True, vmax=0.4, vmin=-0.4, ext_geom=geom)\n",
    "p.annotate()"
   ]
  },
  {
   "cell_type": "markdown",
   "metadata": {},
   "source": [
    "##### Using output of the mean-field Hubbard model to start SIESTA calculation\n",
    "The `hubbard` package can be used to give a starting spin-density distribution for a more accurate spin polarized [SIESTA](https://gitlab.com/siesta-project/siesta) calculation, by writing the spin densities to a `fdf-block`:"
   ]
  },
  {
   "cell_type": "code",
   "execution_count": null,
   "metadata": {},
   "outputs": [],
   "source": [
    "# Write the self-consistent solution of the mean-field Hubbard calculation\n",
    "# to an input file for a SIESTA calculation.\n",
    "# ext_geom is the full sp2 geometry that includes the Hydrogen atoms,\n",
    "# otherwise it uses only the carbon backbone structure (pi-network) stored in the Hsp2 Hamiltonian\n",
    "HH.write_initspin('init-spin.fdf', ext_geom=geom)"
   ]
  },
  {
   "cell_type": "markdown",
   "metadata": {},
   "source": [
    "## Try it yourself\n",
    "\n",
    "#### Simulation of the singlet-triplet transtition energy\n",
    "\n",
    "Now you can use the `hubbard` capabilities to perform further simulations on the molecule from the example above.\n",
    "In absence of specifications, since the molecule has an even number of total electrons, the charge associated to the up- and down-spin channels is equal (`Qtot/2`).\n",
    "Therefore, we have just found the antiferromagnetic solution. \n",
    "But we can manipulate and compute the solution for the ferromagnetic case (or other magnetic states), by imposing an imbalance between up- and down-spin components. \n",
    "\n",
    "To find the ferromagnetic solution one just have to do:\n",
    "\n",
    "```\n",
    "HH.q[0] += 1\n",
    "HH.q[1] -= 1\n",
    "```\n",
    "\n",
    "and converge again.\n",
    "\n",
    "You can now plot the spin polarization of the ferromagnetic solution and compare with the previous solution.\n",
    "\n",
    "Now compare the total energies, this will tell you which solution is the ground state.\n",
    "\n",
    "##### Extra material:\n",
    "You can go to the [Supp. Material](https://www.nature.com/articles/s41467-018-08060-6#Sec12) of the [referenced paper above](https://www.nature.com/articles/s41467-018-08060-6), and try to reproduce other results, e.g. such as the singlet triplet transition curve as a function of the Coulomb parameter `U`, the wavefunctions for each spin-channel, etc."
   ]
  },
  {
   "cell_type": "code",
   "execution_count": null,
   "metadata": {},
   "outputs": [],
   "source": []
  }
 ],
 "metadata": {
  "kernelspec": {
   "display_name": "Python 3 (ipykernel)",
   "language": "python",
   "name": "python3"
  },
  "language_info": {
   "codemirror_mode": {
    "name": "ipython",
    "version": 3
   },
   "file_extension": ".py",
   "mimetype": "text/x-python",
   "name": "python",
   "nbconvert_exporter": "python",
   "pygments_lexer": "ipython3",
   "version": "3.10.13"
  }
 },
 "nbformat": 4,
 "nbformat_minor": 2
}

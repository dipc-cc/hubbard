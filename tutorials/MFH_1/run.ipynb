{
 "cells": [
  {
   "cell_type": "code",
   "execution_count": null,
   "metadata": {},
   "outputs": [],
   "source": [
    "import sisl\n",
    "from hubbard import HubbardHamiltonian, sp2, density, plot\n",
    "%matplotlib inline"
   ]
  },
  {
   "cell_type": "markdown",
   "metadata": {},
   "source": [
    "# Isolated structures (molecules)\n",
    "\n",
    "In this example we study the effect of on-site Coulomb interactions for electrons in a carbon-based molecular geometry by solving the mean-field Hubbard equation using the `hubbard` package.\n",
    "\n",
    "We will use the molecule of ref. [Nature Communications 10, 200 (2019)](https://www.nature.com/articles/s41467-018-08060-6) and compare the simulation with the experimental system.\n",
    "\n",
    "You can find the molecular geometry in the file `junction-2-2.XV` in this directory."
   ]
  },
  {
   "cell_type": "markdown",
   "metadata": {},
   "source": [
    "### Getting started:\n",
    "\n",
    "We will start by building the tight-binding (TB) Hamiltonian for a sp2 carbon-based molecule, by first reading the geometry file using `sisl`. To build the TB Hamiltonian we will use the function `hubbard.sp2` that builds the TB `sisl.Hamiltonian` of an sp2 carbon system. Alternatively, one could build the TB Hamiltonian with `sisl` by hand following example [TB_01](https://github.com/zerothi/ts-tbt-sisl-tutorial/blob/main/TB_01/run.ipynb) (remember that it has to be spin-polarized). \n",
    "\n",
    "We will use the third nearest neighbor model (3NN) with hoppings `t1=2.7`,`t2=0.2` and `t3=0.18` eV between first, second and third neighbors, respectively."
   ]
  },
  {
   "cell_type": "code",
   "execution_count": null,
   "metadata": {},
   "outputs": [],
   "source": [
    "# Build sisl.Geometry object from the 'XV' file\n",
    "geom = sisl.get_sile('junction-2-2.XV').read_geometry()\n",
    "\n",
    "# Build sisl.Hamiltonian object using the sp2 function\n",
    "Hsp2 = sp2(geom, t1=2.7, t2=0.2, t3=0.18)"
   ]
  },
  {
   "cell_type": "markdown",
   "metadata": {},
   "source": [
    "We will build the `HubbardHamiltonian` object, which will enable the routines to iterate the mean field Hubbard Hamiltonian until it finds the self-consistent solution (convergence). To model the interaction part (Hubbard term) we will use `U=3.5` eV. You can find the parameters used to build the full Hamiltonian in the [Supp. Material](https://www.nature.com/articles/s41467-018-08060-6#Sec12) of the [paper referenced above](https://www.nature.com/articles/s41467-018-08060-6) and references therein.\n",
    "\n",
    "\n",
    "For more information type:\n",
    "\n",
    "```\n",
    "help(HubbardHamiltonian)\n",
    "```"
   ]
  },
  {
   "cell_type": "code",
   "execution_count": null,
   "metadata": {},
   "outputs": [],
   "source": [
    "# Build the HubbardHamiltonian object with U=3.5 at a temperature of kT~0 meV\n",
    "HH = HubbardHamiltonian(Hsp2, U=3.5, kT=1e-3)"
   ]
  },
  {
   "cell_type": "markdown",
   "metadata": {},
   "source": [
    "##### Important note before starting the convergence process\n",
    "It is important to initialize the convergence of the `HubbardHamiltonian` object with an initial spin-density distribution that breaks the symmetry between the up- and down- spin channels. Otherwise the code *will not be able to find a solution*.\n",
    "Furthermore, the closer the initial spin-densities are to the self-consistent solution, the faster the code will find it."
   ]
  },
  {
   "cell_type": "code",
   "execution_count": null,
   "metadata": {},
   "outputs": [],
   "source": [
    "# Firstly we have to initialize the spin-densities distribution (polarization)\n",
    "# The polarization can be tuned by using the following function to start with a\n",
    "# specific up- and down-spin density distribution. In this case we will start\n",
    "# by placing one up-electron at atomic postion 77 and one down-electron at position 23\n",
    "HH.set_polarization([77], dn=[23])"
   ]
  },
  {
   "cell_type": "markdown",
   "metadata": {},
   "source": [
    "Now we can start the convergence process by calling the `HubbardHamiltonian.converge` method. It will iterate until it finds the self-consistent solution up to a desired tolerance (`tol`). This method needs as a mandatory argument another function that returns the spin-densities. Depending on the system or the boundary conditions, the spin-densities will be obtained differently. For instance, to compute the spin-densities for TB Hamiltonians of *finite (isolated) or periodic* structures, one can use the method `hubbard.density.calc_n`, which obtains them by diagonalizing the Hamiltonian.\n",
    "\n",
    "Type:\n",
    "\n",
    "```\n",
    "help(HubbardHamiltonian.converge)\n",
    "```\n",
    "and/or\n",
    "\n",
    "```\n",
    "help(density.calc_n)\n",
    "```\n",
    "\n",
    "for more information."
   ]
  },
  {
   "cell_type": "code",
   "execution_count": null,
   "metadata": {},
   "outputs": [],
   "source": [
    "# Converge until a tolerance of tol=1e-10\n",
    "# With print_info=True it prints (dn,  Etot) for each 10 iterations\n",
    "# where dn is the spin-densities difference between last and current iteration and Etot is the total energy\n",
    "dn = HH.converge(density.calc_n, tol=1e-10, print_info=True, steps=10)"
   ]
  },
  {
   "cell_type": "markdown",
   "metadata": {},
   "source": [
    "##### Understanding the final results\n",
    "During the iteration process the total energy has also been calculated. Now that convergence has been achieved, the total energy for the self-consistent solution is stored in the `HubbardHamiltonian` object. We can save this value to compare it with further calculations."
   ]
  },
  {
   "cell_type": "code",
   "execution_count": null,
   "metadata": {},
   "outputs": [],
   "source": [
    "# Save total energy\n",
    "E_0 =  HH.Etot\n",
    "print(f\"Total energy = {E_0} eV\")"
   ]
  },
  {
   "cell_type": "markdown",
   "metadata": {},
   "source": [
    "Also, we can visualize some meaningful physical quantities and properties of the solution, e.g. such as the spin polarization. Other interesting electronic properties can be visualized using the `hubbard.plot` module (take a look at the exercises section below)"
   ]
  },
  {
   "cell_type": "code",
   "execution_count": null,
   "metadata": {},
   "outputs": [],
   "source": [
    "# Let's visualize some relevant physical quantities of the final result (this process may take a few seconds)\n",
    "# By passing the argument ext_geom one can plot the spin polarization using the full geometry for the sp2 system\n",
    "# i.e. including Hydrogen atoms. Otherwise it only displays the carbon backbone (pi-network) structure\n",
    "p = plot.SpinPolarization(HH, colorbar=True, vmax=0.4, vmin=-0.4, ext_geom=geom)\n",
    "p.annotate([77, 23], size=9) # Mark atomic positions 23 and 77"
   ]
  },
  {
   "cell_type": "markdown",
   "metadata": {},
   "source": [
    "##### Using output of the mean-field Hubbard model to start SIESTA calculation\n",
    "The `hubbard` package can be used to give a starting spin-density distribution for a more accurate spin polarized [SIESTA](https://gitlab.com/siesta-project/siesta) calculation, by writing the spin densities to a `fdf-block`:"
   ]
  },
  {
   "cell_type": "code",
   "execution_count": null,
   "metadata": {},
   "outputs": [],
   "source": [
    "# Write the self-consistent solution of the mean-field Hubbard calculation\n",
    "# to an input file for a SIESTA calculation.\n",
    "# ext_geom is the full sp2 geometry that includes the Hydrogen atoms,\n",
    "# otherwise it uses only the carbon backbone structure (pi-network) stored in the Hsp2 Hamiltonian\n",
    "HH.write_initspin('init-spin.fdf', ext_geom=geom)"
   ]
  },
  {
   "cell_type": "markdown",
   "metadata": {},
   "source": [
    "## Try it yourself\n",
    "\n",
    "#### Simulation of the singlet-triplet transtition energy\n",
    "\n",
    "Now you can use the `hubbard` capabilities to perform further simulations on the molecule from the example above.\n",
    "For example, as the molecule has an even number of total electrons, the total charge associated to the up- and down-spin channels is by default equally distributed among them (`Qtot/2` each).\n",
    "Therefore, in this scenario the self-consistent solution found above corresponds to the approximated \"singlet\" configuration, because the projected spin is calculated as $S_z = \\frac{1}{2}\\left| Q_{\\uparrow} - Q_{\\downarrow}\\right| $.\n",
    "\n",
    "We can manipulate and compute the solution for other magnetic states, by imposing an imbalance between the total charge corresponding to up- and down-spin components (i.e., exploring different $S_z$).\n",
    "\n",
    "For instance, to find the approximated \"triplet\" solution, where $S_z=1$, we have to impose a spin up and down charge imbalance of $Q_{\\uparrow} = Q_{\\downarrow} + 2$. In the calculation one just have to set:\n",
    "\n",
    "```python\n",
    "HH.q[0] += 1 # Increase up total charge (Qup) by one unit\n",
    "HH.q[1] -= 1 # Decrease down total charge (Qdn) by one unit\n",
    "```\n",
    "\n",
    "and converge again.\n",
    "\n",
    "After convergence, you can plot the spin polarization of the ferromagnetic solution and compare with the previous one.\n",
    "\n",
    "You can also compare the total energy of each calculation, this will tell you which solution corresponds to the ground state.\n",
    "The *new energy* will be saved in the variable `HH.Etot` (which will overwrite the previous one, that's why we saved it in the vriable `E_0` above).\n",
    "So you can do:\n",
    "\n",
    "```python\n",
    "E_1 = HH.Etot # Save total energy of the new calculation in variable E_1\n",
    "print(E_1 - E_0)\n",
    "```\n",
    "\n",
    "And actually, the energy difference between these two calculations ($E(S_{z}=0)-E(S_{z}=1)$) give us the approximated *singlet-triplet transition* energy.\n",
    "\n",
    "##### Solution:\n",
    "The result of the energy difference should give you: $E(S_{z}=0)-E(S_{z}=1)=19$ meV. \n",
    "You can go to the [referenced paper](https://www.nature.com/articles/s41467-018-08060-6) and compare with both the DFT and MFH calculated energies, and also with the experimental value and see the agreement between these results.\n",
    "\n",
    "##### Extra material:\n",
    "You can go to the [Supp. Material](https://www.nature.com/articles/s41467-018-08060-6#Sec12) of the [referenced paper](https://www.nature.com/articles/s41467-018-08060-6), and try to reproduce other results, e.g. such as the singlet triplet transition curve as a function of the Coulomb parameter `U`, the wavefunctions for each spin-channel, etc."
   ]
  },
  {
   "cell_type": "code",
   "execution_count": null,
   "metadata": {},
   "outputs": [],
   "source": []
  }
 ],
 "metadata": {
  "kernelspec": {
   "display_name": "Python 3 (ipykernel)",
   "language": "python",
   "name": "python3"
  },
  "language_info": {
   "codemirror_mode": {
    "name": "ipython",
    "version": 3
   },
   "file_extension": ".py",
   "mimetype": "text/x-python",
   "name": "python",
   "nbconvert_exporter": "python",
   "pygments_lexer": "ipython3",
   "version": "3.10.10"
  }
 },
 "nbformat": 4,
 "nbformat_minor": 4
}

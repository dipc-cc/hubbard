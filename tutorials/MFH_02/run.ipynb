{
 "cells": [
  {
   "cell_type": "code",
   "execution_count": 1,
   "metadata": {},
   "outputs": [],
   "source": [
    "from __future__ import print_function\n",
    "import sisl\n",
    "import Hubbard.hamiltonian as hh\n",
    "import Hubbard.sp2 as sp2\n",
    "import Hubbard.density as density\n",
    "import Hubbard.geometry as geometry\n",
    "import Hubbard.plot as plot\n",
    "%matplotlib inline"
   ]
  },
  {
   "cell_type": "markdown",
   "metadata": {},
   "source": [
    "# Simulation of electron correlations in periodic systems \n",
    "\n",
    "Let's try now to find the band structure of a correlated 1D system with periodic boundary conditions along a certain axis.\n",
    "In this example we will reproduce the results of Ref. [Phys. Rev. B 81, 245402 (2010)](https://journals.aps.org/prb/abstract/10.1103/PhysRevB.81.245402).\n",
    "\n",
    "Let's consider, for instance, the case of the zigzag graphene nanoribbon 16 C-atoms across width (which we will call 16-ZGNR) with the parameters of set D (see Table I of the [Ref. paper](https://journals.aps.org/prb/abstract/10.1103/PhysRevB.81.245402)). This is, `t1=2.7`, `t2=0.2`, `t3=0.18` eV for the kinetic part (TB Hamiltonian), and `U=2.0` eV for the interaction part (Hubbard term).\n",
    "\n",
    "- We need first to buld the geometry of the unit cell of the 16-ZGNR with appropiate cell dimensions to have periodicity, e.g., along the x-axis direction and no coupling in any other direction."
   ]
  },
  {
   "cell_type": "code",
   "execution_count": 8,
   "metadata": {},
   "outputs": [
    {
     "name": "stdout",
     "output_type": "stream",
     "text": [
      "Geometry{na: 32, no: 32,\n",
      " Atoms{species: 1,\n",
      "  Atom{C, Z: 6, mass(au): 12.01070, maxR: 1.42000,\n",
      "   Orbital{R: 1.42000, q0: 0.0}\n",
      "  }: 32,\n",
      " },\n",
      " maxR: 1.42000,\n",
      " SuperCell{nsc: [3 1 1],\n",
      "  A=[2.460, 0.000, 0.000],\n",
      "  B=[0.000, 90.880, 0.000],\n",
      "  C=[0.000, 0.000, 14.200],\n",
      " }\n",
      "}\n"
     ]
    }
   ],
   "source": [
    "# You can use the predefined function of the Hubabrd package to build the unit cell of the 16-ZGNR:\n",
    "geom = geometry.zgnr(16)\n",
    "# This function returns a periodic ZGNR along the x-axis (sisl.Geometry object).\n",
    "print(geom)"
   ]
  },
  {
   "cell_type": "markdown",
   "metadata": {},
   "source": [
    "- Now you have to build the TB Hamiltonian, just as in the case of example MFH_01. Again, you can make use of the function `sp2` of the `Hubbard` package, which will return the `sisl.Hamiltonian` object that we need to build the  `hh.HubbardHamiltonian`."
   ]
  },
  {
   "cell_type": "code",
   "execution_count": null,
   "metadata": {},
   "outputs": [],
   "source": [
    "# Build sisl.Hamiltonian object using the sp2 function with the specific hopping parameters\n",
    "Hsp2 = sp2(...)"
   ]
  },
  {
   "cell_type": "markdown",
   "metadata": {},
   "source": [
    "- In this case, since the system has periodic boundary conditions, we need to find the self-consistent solution per *k-point*. To do so you just need to pass the argument `nkpt=[nkx, nky, nkz]` when creating the `hh.HubabrdHamiltonian(...)` object. This argument will set the number of k-points along each direction in which the Hamiltonian will be sampled in the k-space. I.e. if the system is periodic only along the x-axis, you should pass something like `nkpt=[nkx, 1, 1]`, where `nkx>1` (the larger this number is, the better the sampling and the slower the convergence process are)."
   ]
  },
  {
   "cell_type": "code",
   "execution_count": null,
   "metadata": {},
   "outputs": [],
   "source": [
    "# Build the HubbardHamiltonian object using the U value from the reference paper\n",
    "HH = hh.HubabrdHamiltonian(Hsp2, U=U, nkpt=[nkx, nky, nkz], kT=1e-5)"
   ]
  },
  {
   "cell_type": "markdown",
   "metadata": {},
   "source": [
    "- Before converging, you can plot the band structure of the system, e.g., by doing:\n",
    "\n",
    "```\n",
    "p = plot.Bandstructure(...)\n",
    "```\n",
    "  Fill the `(...)` with the name of the variable in which you stored the `hh.HubbardHamiltonian` object.\n",
    "  \n",
    "- Now you can converge using the routine `HubbardHamiltonian.converge(...)`, just as in example MFH_01. Remember to initialize the spin-densities before convergence!\n",
    "\n",
    "- Finally, you can visualize some relevant physical quantities, such as the spin-polarization per unit-cell and the band structure of the self-consistent solution.\n",
    "\n",
    "Now you can compare the bandstructure of the system for the pure TB Hamiltonian (before convergence) and of the self-consistent solution (after convergence).\n",
    "\n",
    "You should see a gap opening between the valence and conduction bands with respect to the non-converged solution. Such gap is called the correlation gap, and it appears because of the interaction between electrons."
   ]
  },
  {
   "cell_type": "code",
   "execution_count": null,
   "metadata": {},
   "outputs": [],
   "source": []
  }
 ],
 "metadata": {
  "kernelspec": {
   "display_name": "Python 3",
   "language": "python",
   "name": "python3"
  },
  "language_info": {
   "codemirror_mode": {
    "name": "ipython",
    "version": 3
   },
   "file_extension": ".py",
   "mimetype": "text/x-python",
   "name": "python",
   "nbconvert_exporter": "python",
   "pygments_lexer": "ipython3",
   "version": "3.8.3"
  }
 },
 "nbformat": 4,
 "nbformat_minor": 2
}
